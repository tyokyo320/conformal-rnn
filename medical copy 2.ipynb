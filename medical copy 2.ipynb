{
 "cells": [
  {
   "cell_type": "markdown",
   "id": "bfaf9e81-c095-4d66-812e-3459dbc93c65",
   "metadata": {},
   "source": [
    "# Experiments on real-world data"
   ]
  },
  {
   "cell_type": "code",
   "execution_count": 19,
   "id": "e8602d8b-cb7c-488b-9787-1e624204f8f2",
   "metadata": {},
   "outputs": [
    {
     "name": "stdout",
     "output_type": "stream",
     "text": [
      "The autoreload extension is already loaded. To reload it, use:\n",
      "  %reload_ext autoreload\n"
     ]
    }
   ],
   "source": [
    "%load_ext autoreload\n",
    "%autoreload 2\n",
    "\n",
    "from utils.train_medical import run_medical_experiments\n",
    "from utils.results import (\n",
    "    get_joint_medical_coverages, \n",
    "    get_medical_interval_widths, \n",
    "    load_medical_results, \n",
    "    get_uncorrected_medical_results\n",
    ")"
   ]
  },
  {
   "cell_type": "code",
   "execution_count": 20,
   "id": "6f13c3ef",
   "metadata": {},
   "outputs": [],
   "source": [
    "# CONFORMAL_BASELINES = [\"CFRNN\", \"AdaptiveCFRNN\"]\n",
    "CONFORMAL_BASELINES = [\"CFRNN\"]"
   ]
  },
  {
   "cell_type": "markdown",
   "id": "9455748f-ff7b-4fa6-8c02-45dfd5509810",
   "metadata": {},
   "source": [
    "To obtain the results as presented in the paper, run the following three sections."
   ]
  },
  {
   "cell_type": "markdown",
   "id": "20370c7c-eaca-49aa-8e45-7f91c01c4faa",
   "metadata": {},
   "source": [
    "## Electricity Consumption dataset"
   ]
  },
  {
   "cell_type": "code",
   "execution_count": 21,
   "id": "84cb28a9-05b8-4be6-9656-44cc61953beb",
   "metadata": {
    "collapsed": true,
    "jupyter": {
     "outputs_hidden": true
    },
    "tags": []
   },
   "outputs": [
    {
     "name": "stdout",
     "output_type": "stream",
     "text": [
      "Training CFRNN\n",
      "Epoch: 0\tTrain loss: 2037239.59375\n",
      "Epoch: 50\tTrain loss: 922535.546875\n",
      "Epoch: 100\tTrain loss: 1052702.53125\n",
      "Epoch: 150\tTrain loss: 1505153.0\n",
      "Epoch: 200\tTrain loss: 1457487.34375\n",
      "Epoch: 250\tTrain loss: 935771.59375\n",
      "Epoch: 300\tTrain loss: 728280.75\n",
      "Epoch: 350\tTrain loss: 698994.8984375\n",
      "Epoch: 400\tTrain loss: 1625971.78125\n",
      "Epoch: 450\tTrain loss: 1244336.0\n",
      "Epoch: 500\tTrain loss: 1537827.875\n",
      "Epoch: 550\tTrain loss: 1496626.78125\n",
      "Epoch: 600\tTrain loss: 570062.21484375\n",
      "Epoch: 650\tTrain loss: 1095027.875\n",
      "Epoch: 700\tTrain loss: 658743.34375\n",
      "Epoch: 750\tTrain loss: 1027721.40625\n",
      "Epoch: 800\tTrain loss: 500667.40625\n",
      "Epoch: 850\tTrain loss: 963758.90625\n",
      "Epoch: 900\tTrain loss: 1231540.5\n",
      "Epoch: 950\tTrain loss: 429970.572265625\n",
      "Training CFRNN\n",
      "Epoch: 0\tTrain loss: 891311.234375\n",
      "Epoch: 50\tTrain loss: 1098035.71875\n",
      "Epoch: 100\tTrain loss: 1222620.4375\n",
      "Epoch: 150\tTrain loss: 784738.921875\n",
      "Epoch: 200\tTrain loss: 752081.484375\n",
      "Epoch: 250\tTrain loss: 696237.4609375\n",
      "Epoch: 300\tTrain loss: 908635.40625\n",
      "Epoch: 350\tTrain loss: 665636.6015625\n",
      "Epoch: 400\tTrain loss: 989076.1875\n",
      "Epoch: 450\tTrain loss: 953220.40625\n",
      "Epoch: 500\tTrain loss: 565596.640625\n",
      "Epoch: 550\tTrain loss: 689666.140625\n",
      "Epoch: 600\tTrain loss: 518554.45703125\n",
      "Epoch: 650\tTrain loss: 515725.6953125\n",
      "Epoch: 700\tTrain loss: 1329502.296875\n",
      "Epoch: 750\tTrain loss: 765427.6875\n",
      "Epoch: 800\tTrain loss: 1255651.0625\n",
      "Epoch: 850\tTrain loss: 416765.875\n",
      "Epoch: 900\tTrain loss: 399767.6484375\n",
      "Epoch: 950\tTrain loss: 540164.34375\n",
      "Training CFRNN\n",
      "Epoch: 0\tTrain loss: 1104670.640625\n",
      "Epoch: 50\tTrain loss: 1067632.109375\n",
      "Epoch: 100\tTrain loss: 1379936.25\n",
      "Epoch: 150\tTrain loss: 1103447.140625\n",
      "Epoch: 200\tTrain loss: 1067522.296875\n",
      "Epoch: 250\tTrain loss: 1489552.3125\n",
      "Epoch: 300\tTrain loss: 1447049.125\n",
      "Epoch: 350\tTrain loss: 2313532.3125\n",
      "Epoch: 400\tTrain loss: 1872489.6875\n",
      "Epoch: 450\tTrain loss: 833287.9599609375\n",
      "Epoch: 500\tTrain loss: 880438.6875\n",
      "Epoch: 550\tTrain loss: 1738961.5\n",
      "Epoch: 600\tTrain loss: 2067937.5625\n",
      "Epoch: 650\tTrain loss: 975277.125\n",
      "Epoch: 700\tTrain loss: 1143768.5\n",
      "Epoch: 750\tTrain loss: 1932399.90625\n",
      "Epoch: 800\tTrain loss: 884397.046875\n",
      "Epoch: 850\tTrain loss: 857172.921875\n",
      "Epoch: 900\tTrain loss: 829389.828125\n",
      "Epoch: 950\tTrain loss: 802685.3125\n",
      "Training CFRNN\n",
      "Epoch: 0\tTrain loss: 1160759.875\n",
      "Epoch: 50\tTrain loss: 1089494.484375\n",
      "Epoch: 100\tTrain loss: 1320182.75\n",
      "Epoch: 150\tTrain loss: 2474315.0625\n",
      "Epoch: 200\tTrain loss: 1234453.15625\n",
      "Epoch: 250\tTrain loss: 1959429.625\n",
      "Epoch: 300\tTrain loss: 2308829.53125\n",
      "Epoch: 350\tTrain loss: 1120944.375\n",
      "Epoch: 400\tTrain loss: 1817810.875\n",
      "Epoch: 450\tTrain loss: 2155607.3125\n",
      "Epoch: 500\tTrain loss: 2107636.84375\n",
      "Epoch: 550\tTrain loss: 796143.4296875\n",
      "Epoch: 600\tTrain loss: 751303.65625\n",
      "Epoch: 650\tTrain loss: 726743.10546875\n",
      "Epoch: 700\tTrain loss: 835858.171875\n",
      "Epoch: 750\tTrain loss: 1517443.6875\n",
      "Epoch: 800\tTrain loss: 1836738.0625\n",
      "Epoch: 850\tTrain loss: 806727.421875\n",
      "Epoch: 900\tTrain loss: 630122.5\n",
      "Epoch: 950\tTrain loss: 706805.953125\n",
      "Training CFRNN\n",
      "Epoch: 0\tTrain loss: 12590280.09375\n",
      "Epoch: 50\tTrain loss: 3221491.84375\n",
      "Epoch: 100\tTrain loss: 3176987.03125\n",
      "Epoch: 150\tTrain loss: 2868739.421875\n",
      "Epoch: 200\tTrain loss: 3018831.09375\n",
      "Epoch: 250\tTrain loss: 2793832.3671875\n",
      "Epoch: 300\tTrain loss: 2782334.203125\n",
      "Epoch: 350\tTrain loss: 11910213.0\n",
      "Epoch: 400\tTrain loss: 3073102.4375\n",
      "Epoch: 450\tTrain loss: 2677353.34375\n",
      "Epoch: 500\tTrain loss: 11637114.84375\n",
      "Epoch: 550\tTrain loss: 2805582.25\n",
      "Epoch: 600\tTrain loss: 2710310.625\n",
      "Epoch: 650\tTrain loss: 2527252.3203125\n",
      "Epoch: 700\tTrain loss: 2697691.65625\n",
      "Epoch: 750\tTrain loss: 2464524.87890625\n",
      "Epoch: 800\tTrain loss: 2755983.03125\n",
      "Epoch: 850\tTrain loss: 2536017.9375\n",
      "Epoch: 900\tTrain loss: 2685968.625\n",
      "Epoch: 950\tTrain loss: 2355508.1015625\n"
     ]
    }
   ],
   "source": [
    "for baseline in CONFORMAL_BASELINES:\n",
    "    for seed in range(5):\n",
    "        run_medical_experiments(dataset='electricity', \n",
    "                                baseline=baseline,\n",
    "                                save_model=True, \n",
    "                                save_results=True,\n",
    "                                seed=seed)"
   ]
  },
  {
   "cell_type": "code",
   "execution_count": 22,
   "id": "a45a98a5-3175-40ce-9c70-5c0b236300b9",
   "metadata": {},
   "outputs": [
    {
     "name": "stdout",
     "output_type": "stream",
     "text": [
      "CFRNN\n",
      "coverages = [100.0, 100.0, 0.0, 100.0, 100.0]\n",
      "80.0 \\(\\pm\\) 40.0\\%\n",
      "\n"
     ]
    }
   ],
   "source": [
    "for baseline in CONFORMAL_BASELINES:\n",
    "    print(baseline)\n",
    "    coverages_mean, coverages_std = get_joint_medical_coverages(baseline, 'electricity', seeds=range(5))\n",
    "    \n",
    "    print('{:.1f} \\\\(\\\\pm\\\\) {:.1f}\\\\%'.format(coverages_mean, coverages_std))\n",
    "    print()"
   ]
  },
  {
   "cell_type": "code",
   "execution_count": 23,
   "id": "4074c07c-9cca-49c8-83b3-156d108530a2",
   "metadata": {},
   "outputs": [
    {
     "name": "stdout",
     "output_type": "stream",
     "text": [
      "CFRNN\n",
      "widths = [9116.51171875 9123.33203125 2194.22583008 9130.34082031 3434.32885742]\n",
      "6599.7478515625\n",
      "3115.605236190444\n",
      "\n"
     ]
    }
   ],
   "source": [
    "for baseline in CONFORMAL_BASELINES:\n",
    "    print(baseline)\n",
    "    widths_mean, widths_std = get_medical_interval_widths(baseline, 'electricity', seeds=range(5))\n",
    "    \n",
    "    print(widths_mean)\n",
    "    print(widths_std)\n",
    "    print()"
   ]
  },
  {
   "cell_type": "markdown",
   "id": "b0b6d7af-a7c6-46eb-aead-23336fa9a665",
   "metadata": {},
   "source": [
    "## Ablation: Uncorrected calibration scores"
   ]
  },
  {
   "cell_type": "markdown",
   "id": "2c58171e-7675-4983-851c-5a963d25aeec",
   "metadata": {},
   "source": [
    "#### Electricity Consumption"
   ]
  },
  {
   "cell_type": "code",
   "execution_count": 24,
   "id": "752fa9ad-f6cc-43d3-9fb5-5bfdb071888e",
   "metadata": {},
   "outputs": [
    {
     "name": "stdout",
     "output_type": "stream",
     "text": [
      "coverages = [100.0, 100.0, 0.0, 100.0, 100.0]\n",
      "80.0 \\(\\pm\\) 40.0\\%\n"
     ]
    }
   ],
   "source": [
    "coverages_mean, coverages_std = get_joint_medical_coverages('CFRNN', 'electricity', seeds=range(5), correct_conformal=True)\n",
    "    \n",
    "print('{:.1f} \\\\(\\\\pm\\\\) {:.1f}\\\\%'.format(coverages_mean, coverages_std))"
   ]
  },
  {
   "cell_type": "code",
   "execution_count": 25,
   "id": "86d905e4-dc31-47ae-9b47-bda58c4c59aa",
   "metadata": {},
   "outputs": [
    {
     "name": "stdout",
     "output_type": "stream",
     "text": [
      "coverages = [100.0, 100.0, 0.0, 100.0, 100.0]\n",
      "80.0 \\(\\pm\\) 40.0\\%\n"
     ]
    }
   ],
   "source": [
    "coverages_mean, coverages_std = get_joint_medical_coverages('CFRNN', 'electricity', seeds=range(5), correct_conformal=False)\n",
    "    \n",
    "print('{:.1f} \\\\(\\\\pm\\\\) {:.1f}\\\\%'.format(coverages_mean, coverages_std))"
   ]
  },
  {
   "cell_type": "code",
   "execution_count": 26,
   "id": "66c5f5a2-4423-4aff-b2e4-91cc7a3ce3be",
   "metadata": {},
   "outputs": [
    {
     "name": "stdout",
     "output_type": "stream",
     "text": [
      "[100.0\\%, 100.0\\%]\n",
      "[100.0\\%, 100.0\\%]\n",
      "[0.0\\%, 0.0\\%]\n",
      "[100.0\\%, 100.0\\%]\n",
      "[100.0\\%, 100.0\\%]\n"
     ]
    }
   ],
   "source": [
    "for seed in range(5):\n",
    "    results = load_medical_results(dataset='electricity', baseline='CFRNN', seed=seed)\n",
    "    independent_coverages = results['Mean independent coverage']\n",
    "    print('[{:.1f}\\\\%, {:.1f}\\\\%]'.format(independent_coverages.min() * 100, independent_coverages.max() * 100))"
   ]
  },
  {
   "cell_type": "code",
   "execution_count": 27,
   "id": "ab9b269d-13d6-4f21-8848-d6eaeb6bc8cb",
   "metadata": {},
   "outputs": [
    {
     "name": "stdout",
     "output_type": "stream",
     "text": [
      "[100.0\\%, 100.0\\%]\n",
      "[100.0\\%, 100.0\\%]\n",
      "[0.0\\%, 0.0\\%]\n",
      "[100.0\\%, 100.0\\%]\n",
      "[100.0\\%, 100.0\\%]\n"
     ]
    }
   ],
   "source": [
    "for seed in range(5):\n",
    "    uncorrected_mimic_results = get_uncorrected_medical_results(dataset='electricity', seed=seed)\n",
    "    independent_coverages = uncorrected_mimic_results['Mean independent coverage']\n",
    "    print('[{:.1f}\\\\%, {:.1f}\\\\%]'.format(independent_coverages.min() * 100, independent_coverages.max() * 100))"
   ]
  }
 ],
 "metadata": {
  "kernelspec": {
   "display_name": "Python 3.8.13 ('lab')",
   "language": "python",
   "name": "python3"
  },
  "language_info": {
   "codemirror_mode": {
    "name": "ipython",
    "version": 3
   },
   "file_extension": ".py",
   "mimetype": "text/x-python",
   "name": "python",
   "nbconvert_exporter": "python",
   "pygments_lexer": "ipython3",
   "version": "3.8.13"
  },
  "vscode": {
   "interpreter": {
    "hash": "55cd0a945cf9041a238b2dc7f6f29da44cde9fabaada4bd04363a8e3e2e8be13"
   }
  }
 },
 "nbformat": 4,
 "nbformat_minor": 5
}
