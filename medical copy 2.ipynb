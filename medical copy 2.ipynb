{
 "cells": [
  {
   "cell_type": "markdown",
   "id": "bfaf9e81-c095-4d66-812e-3459dbc93c65",
   "metadata": {},
   "source": [
    "# Experiments on real-world data"
   ]
  },
  {
   "cell_type": "code",
   "execution_count": 1,
   "id": "e8602d8b-cb7c-488b-9787-1e624204f8f2",
   "metadata": {},
   "outputs": [
    {
     "name": "stderr",
     "output_type": "stream",
     "text": [
      "/home/zhang.q/anaconda3/envs/lab/lib/python3.8/site-packages/tqdm/auto.py:22: TqdmWarning: IProgress not found. Please update jupyter and ipywidgets. See https://ipywidgets.readthedocs.io/en/stable/user_install.html\n",
      "  from .autonotebook import tqdm as notebook_tqdm\n"
     ]
    }
   ],
   "source": [
    "%load_ext autoreload\n",
    "%autoreload 2\n",
    "\n",
    "from utils.train_medical import run_medical_experiments\n",
    "from utils.results import (\n",
    "    get_joint_medical_coverages, \n",
    "    get_medical_interval_widths, \n",
    "    load_medical_results, \n",
    "    get_uncorrected_medical_results\n",
    ")"
   ]
  },
  {
   "cell_type": "code",
   "execution_count": 2,
   "id": "6f13c3ef",
   "metadata": {},
   "outputs": [],
   "source": [
    "# CONFORMAL_BASELINES = [\"CFRNN\", \"AdaptiveCFRNN\"]\n",
    "CONFORMAL_BASELINES = [\"CFRNN\"]"
   ]
  },
  {
   "cell_type": "markdown",
   "id": "9455748f-ff7b-4fa6-8c02-45dfd5509810",
   "metadata": {},
   "source": [
    "To obtain the results as presented in the paper, run the following three sections."
   ]
  },
  {
   "cell_type": "markdown",
   "id": "20370c7c-eaca-49aa-8e45-7f91c01c4faa",
   "metadata": {},
   "source": [
    "## Electricity Consumption dataset"
   ]
  },
  {
   "cell_type": "code",
   "execution_count": 3,
   "id": "84cb28a9-05b8-4be6-9656-44cc61953beb",
   "metadata": {
    "collapsed": true,
    "jupyter": {
     "outputs_hidden": true
    },
    "tags": []
   },
   "outputs": [
    {
     "name": "stdout",
     "output_type": "stream",
     "text": [
      "Training CFRNN\n",
      "Epoch: 0\tTrain loss: 0.38077111542224884\n",
      "Epoch: 50\tTrain loss: 0.02948560193181038\n",
      "Epoch: 100\tTrain loss: 0.010839472990483046\n",
      "Epoch: 150\tTrain loss: 0.024715500883758068\n",
      "Epoch: 200\tTrain loss: 0.014870489947497845\n",
      "Epoch: 250\tTrain loss: 0.008619396248832345\n",
      "Epoch: 300\tTrain loss: 0.016600221395492554\n",
      "Epoch: 350\tTrain loss: 0.0072311467956751585\n",
      "Epoch: 400\tTrain loss: 0.012257668538950384\n",
      "Epoch: 450\tTrain loss: 0.002922758882959897\n",
      "Epoch: 500\tTrain loss: 0.006686151493340731\n",
      "Epoch: 550\tTrain loss: 0.00575008406303823\n",
      "Epoch: 600\tTrain loss: 0.0030991580861154944\n",
      "Epoch: 650\tTrain loss: 0.004880591994151473\n",
      "Epoch: 700\tTrain loss: 0.0026317618721805047\n",
      "Epoch: 750\tTrain loss: 0.016067260992713273\n",
      "Epoch: 800\tTrain loss: 0.003435959937633015\n",
      "Epoch: 850\tTrain loss: 0.0014414645556826144\n",
      "Epoch: 900\tTrain loss: 0.00010436651791678742\n",
      "Epoch: 950\tTrain loss: 4.8196770876529627e-05\n",
      "Training CFRNN\n",
      "Epoch: 0\tTrain loss: 0.2820344641804695\n",
      "Epoch: 50\tTrain loss: 0.00847676070407033\n",
      "Epoch: 100\tTrain loss: 0.008646180504001677\n",
      "Epoch: 150\tTrain loss: 0.022626593708992004\n",
      "Epoch: 200\tTrain loss: 0.015033695148304105\n",
      "Epoch: 250\tTrain loss: 0.010783066041767597\n",
      "Epoch: 300\tTrain loss: 0.0023863784153945744\n",
      "Epoch: 350\tTrain loss: 0.005220028106123209\n",
      "Epoch: 400\tTrain loss: 0.002383744649705477\n",
      "Epoch: 450\tTrain loss: 0.0024839851539582014\n",
      "Epoch: 500\tTrain loss: 0.004480794828850776\n",
      "Epoch: 550\tTrain loss: 0.001070026497473009\n",
      "Epoch: 600\tTrain loss: 0.0007658627073396929\n",
      "Epoch: 650\tTrain loss: 0.0017806030809879303\n",
      "Epoch: 700\tTrain loss: 0.0019823822512989864\n",
      "Epoch: 750\tTrain loss: 6.511196988867596e-05\n",
      "Epoch: 800\tTrain loss: 9.423053415957838e-05\n",
      "Epoch: 850\tTrain loss: 6.655526885879226e-05\n",
      "Epoch: 900\tTrain loss: 0.0011548017791938037\n",
      "Epoch: 950\tTrain loss: 0.0009608394902897999\n",
      "Training CFRNN\n",
      "Epoch: 0\tTrain loss: 0.15556134283542633\n",
      "Epoch: 50\tTrain loss: 0.004390577727463096\n",
      "Epoch: 100\tTrain loss: 0.002779035799903795\n",
      "Epoch: 150\tTrain loss: 0.008588242984842509\n",
      "Epoch: 200\tTrain loss: 0.004672028822824359\n",
      "Epoch: 250\tTrain loss: 0.001904945427668281\n",
      "Epoch: 300\tTrain loss: 0.0016890620172489434\n",
      "Epoch: 350\tTrain loss: 0.0017850967997219414\n",
      "Epoch: 400\tTrain loss: 0.008050064643612131\n",
      "Epoch: 450\tTrain loss: 0.002894102712161839\n",
      "Epoch: 500\tTrain loss: 0.0012364060385152698\n",
      "Epoch: 550\tTrain loss: 0.0034884215929196216\n",
      "Epoch: 600\tTrain loss: 0.0003641564544523135\n",
      "Epoch: 650\tTrain loss: 0.00017852374003268778\n",
      "Epoch: 700\tTrain loss: 2.8578594992723083e-05\n",
      "Epoch: 750\tTrain loss: 4.068428870596108e-05\n",
      "Epoch: 800\tTrain loss: 2.5129101231868844e-05\n",
      "Epoch: 850\tTrain loss: 0.0008521925046807155\n",
      "Epoch: 900\tTrain loss: 0.00026943736520479433\n",
      "Epoch: 950\tTrain loss: 0.0003061283132410608\n",
      "Training CFRNN\n",
      "Epoch: 0\tTrain loss: 0.31576575338840485\n",
      "Epoch: 50\tTrain loss: 0.017771071288734674\n",
      "Epoch: 100\tTrain loss: 0.01063113915733993\n",
      "Epoch: 150\tTrain loss: 0.007052057626424357\n",
      "Epoch: 200\tTrain loss: 0.006166596140246838\n",
      "Epoch: 250\tTrain loss: 0.0028932414716109633\n",
      "Epoch: 300\tTrain loss: 0.0009389839542564005\n",
      "Epoch: 350\tTrain loss: 0.0005398619032348506\n",
      "Epoch: 400\tTrain loss: 0.00040861508750822395\n",
      "Epoch: 450\tTrain loss: 0.00016735787721700035\n",
      "Epoch: 500\tTrain loss: 0.00016602113464614376\n",
      "Epoch: 550\tTrain loss: 8.662113032187335e-05\n",
      "Epoch: 600\tTrain loss: 0.00015543794870609418\n",
      "Epoch: 650\tTrain loss: 0.00020235427655279636\n",
      "Epoch: 700\tTrain loss: 5.137213884154335e-05\n",
      "Epoch: 750\tTrain loss: 3.7626689845637884e-05\n",
      "Epoch: 800\tTrain loss: 0.00011831061783595942\n",
      "Epoch: 850\tTrain loss: 5.800557846669108e-05\n",
      "Epoch: 900\tTrain loss: 3.095784632023424e-05\n",
      "Epoch: 950\tTrain loss: 2.006481463467935e-05\n",
      "Training CFRNN\n",
      "Epoch: 0\tTrain loss: 0.22442001104354858\n",
      "Epoch: 50\tTrain loss: 0.003907767590135336\n",
      "Epoch: 100\tTrain loss: 0.002988641877891496\n",
      "Epoch: 150\tTrain loss: 0.0010900634588324465\n",
      "Epoch: 200\tTrain loss: 0.0010807476355694234\n",
      "Epoch: 250\tTrain loss: 0.00567917141597718\n",
      "Epoch: 300\tTrain loss: 0.000534915834577987\n",
      "Epoch: 350\tTrain loss: 0.000947297434322536\n",
      "Epoch: 400\tTrain loss: 0.0029680990846827626\n",
      "Epoch: 450\tTrain loss: 0.0015469312784262002\n",
      "Epoch: 500\tTrain loss: 0.0007567883294541389\n",
      "Epoch: 550\tTrain loss: 0.003009565407410264\n",
      "Epoch: 600\tTrain loss: 0.0010559590882621706\n",
      "Epoch: 650\tTrain loss: 0.031026087468490005\n",
      "Epoch: 700\tTrain loss: 0.0012745352578349411\n",
      "Epoch: 750\tTrain loss: 0.0007106205339368898\n",
      "Epoch: 800\tTrain loss: 0.0003726553695742041\n",
      "Epoch: 850\tTrain loss: 0.0005721148336306214\n",
      "Epoch: 900\tTrain loss: 0.0004396623107822961\n",
      "Epoch: 950\tTrain loss: 0.00028653041590587236\n"
     ]
    }
   ],
   "source": [
    "for baseline in CONFORMAL_BASELINES:\n",
    "    for seed in range(5):\n",
    "        run_medical_experiments(dataset='electricity', \n",
    "                                baseline=baseline,\n",
    "                                save_model=True, \n",
    "                                save_results=True,\n",
    "                                seed=seed)"
   ]
  },
  {
   "cell_type": "code",
   "execution_count": 4,
   "id": "a45a98a5-3175-40ce-9c70-5c0b236300b9",
   "metadata": {},
   "outputs": [
    {
     "name": "stdout",
     "output_type": "stream",
     "text": [
      "CFRNN\n",
      "coverages = [100.0, 100.0, 100.0, 0.0, 0.0]\n",
      "60.0 \\(\\pm\\) 49.0\\%\n",
      "\n"
     ]
    }
   ],
   "source": [
    "for baseline in CONFORMAL_BASELINES:\n",
    "    print(baseline)\n",
    "    coverages_mean, coverages_std = get_joint_medical_coverages(baseline, 'electricity', seeds=range(5))\n",
    "    \n",
    "    print('{:.1f} \\\\(\\\\pm\\\\) {:.1f}\\\\%'.format(coverages_mean, coverages_std))\n",
    "    print()"
   ]
  },
  {
   "cell_type": "code",
   "execution_count": 5,
   "id": "4074c07c-9cca-49c8-83b3-156d108530a2",
   "metadata": {},
   "outputs": [
    {
     "name": "stdout",
     "output_type": "stream",
     "text": [
      "CFRNN\n",
      "widths = [1.14303482 1.15225136 2.39344025 0.8816312  0.32570222]\n",
      "1.1792119681835174\n",
      "0.677262014113448\n",
      "\n"
     ]
    }
   ],
   "source": [
    "for baseline in CONFORMAL_BASELINES:\n",
    "    print(baseline)\n",
    "    widths_mean, widths_std = get_medical_interval_widths(baseline, 'electricity', seeds=range(5))\n",
    "    \n",
    "    print(widths_mean)\n",
    "    print(widths_std)\n",
    "    print()"
   ]
  },
  {
   "cell_type": "markdown",
   "id": "b0b6d7af-a7c6-46eb-aead-23336fa9a665",
   "metadata": {},
   "source": [
    "## Ablation: Uncorrected calibration scores"
   ]
  },
  {
   "cell_type": "markdown",
   "id": "2c58171e-7675-4983-851c-5a963d25aeec",
   "metadata": {},
   "source": [
    "#### Electricity Consumption"
   ]
  },
  {
   "cell_type": "code",
   "execution_count": 6,
   "id": "752fa9ad-f6cc-43d3-9fb5-5bfdb071888e",
   "metadata": {},
   "outputs": [
    {
     "name": "stdout",
     "output_type": "stream",
     "text": [
      "coverages = [100.0, 100.0, 100.0, 0.0, 0.0]\n",
      "60.0 \\(\\pm\\) 49.0\\%\n"
     ]
    }
   ],
   "source": [
    "coverages_mean, coverages_std = get_joint_medical_coverages('CFRNN', 'electricity', seeds=range(5), correct_conformal=True)\n",
    "    \n",
    "print('{:.1f} \\\\(\\\\pm\\\\) {:.1f}\\\\%'.format(coverages_mean, coverages_std))"
   ]
  },
  {
   "cell_type": "code",
   "execution_count": 7,
   "id": "86d905e4-dc31-47ae-9b47-bda58c4c59aa",
   "metadata": {},
   "outputs": [
    {
     "name": "stdout",
     "output_type": "stream",
     "text": [
      "coverages = [100.0, 100.0, 100.0, 0.0, 0.0]\n",
      "60.0 \\(\\pm\\) 49.0\\%\n"
     ]
    }
   ],
   "source": [
    "coverages_mean, coverages_std = get_joint_medical_coverages('CFRNN', 'electricity', seeds=range(5), correct_conformal=False)\n",
    "    \n",
    "print('{:.1f} \\\\(\\\\pm\\\\) {:.1f}\\\\%'.format(coverages_mean, coverages_std))"
   ]
  },
  {
   "cell_type": "code",
   "execution_count": 8,
   "id": "66c5f5a2-4423-4aff-b2e4-91cc7a3ce3be",
   "metadata": {},
   "outputs": [
    {
     "name": "stdout",
     "output_type": "stream",
     "text": [
      "[100.0\\%, 100.0\\%]\n",
      "[100.0\\%, 100.0\\%]\n",
      "[100.0\\%, 100.0\\%]\n",
      "[0.0\\%, 100.0\\%]\n",
      "[0.0\\%, 0.0\\%]\n"
     ]
    }
   ],
   "source": [
    "for seed in range(5):\n",
    "    results = load_medical_results(dataset='electricity', baseline='CFRNN', seed=seed)\n",
    "    independent_coverages = results['Mean independent coverage']\n",
    "    print('[{:.1f}\\\\%, {:.1f}\\\\%]'.format(independent_coverages.min() * 100, independent_coverages.max() * 100))"
   ]
  },
  {
   "cell_type": "code",
   "execution_count": 9,
   "id": "ab9b269d-13d6-4f21-8848-d6eaeb6bc8cb",
   "metadata": {},
   "outputs": [
    {
     "name": "stdout",
     "output_type": "stream",
     "text": [
      "[100.0\\%, 100.0\\%]\n",
      "[100.0\\%, 100.0\\%]\n",
      "[100.0\\%, 100.0\\%]\n",
      "[0.0\\%, 100.0\\%]\n",
      "[0.0\\%, 0.0\\%]\n"
     ]
    }
   ],
   "source": [
    "for seed in range(5):\n",
    "    uncorrected_mimic_results = get_uncorrected_medical_results(dataset='electricity', seed=seed)\n",
    "    independent_coverages = uncorrected_mimic_results['Mean independent coverage']\n",
    "    print('[{:.1f}\\\\%, {:.1f}\\\\%]'.format(independent_coverages.min() * 100, independent_coverages.max() * 100))"
   ]
  }
 ],
 "metadata": {
  "kernelspec": {
   "display_name": "Python 3.8.13 ('lab')",
   "language": "python",
   "name": "python3"
  },
  "language_info": {
   "codemirror_mode": {
    "name": "ipython",
    "version": 3
   },
   "file_extension": ".py",
   "mimetype": "text/x-python",
   "name": "python",
   "nbconvert_exporter": "python",
   "pygments_lexer": "ipython3",
   "version": "3.8.13"
  },
  "vscode": {
   "interpreter": {
    "hash": "55cd0a945cf9041a238b2dc7f6f29da44cde9fabaada4bd04363a8e3e2e8be13"
   }
  }
 },
 "nbformat": 4,
 "nbformat_minor": 5
}
