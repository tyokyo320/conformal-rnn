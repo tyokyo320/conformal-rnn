{
 "cells": [
  {
   "cell_type": "markdown",
   "id": "bfaf9e81-c095-4d66-812e-3459dbc93c65",
   "metadata": {},
   "source": [
    "# Experiments on real-world data"
   ]
  },
  {
   "cell_type": "code",
   "execution_count": 4,
   "id": "e8602d8b-cb7c-488b-9787-1e624204f8f2",
   "metadata": {},
   "outputs": [
    {
     "name": "stdout",
     "output_type": "stream",
     "text": [
      "The autoreload extension is already loaded. To reload it, use:\n",
      "  %reload_ext autoreload\n"
     ]
    }
   ],
   "source": [
    "%load_ext autoreload\n",
    "%autoreload 2\n",
    "\n",
    "from utils.train_medical import run_medical_experiments\n",
    "from utils.results import (\n",
    "    get_joint_medical_coverages, \n",
    "    get_medical_interval_widths, \n",
    "    load_medical_results, \n",
    "    get_uncorrected_medical_results\n",
    ")"
   ]
  },
  {
   "cell_type": "code",
   "execution_count": 5,
   "id": "6f13c3ef",
   "metadata": {},
   "outputs": [],
   "source": [
    "# CONFORMAL_BASELINES = [\"CFRNN\", \"AdaptiveCFRNN\"]\n",
    "CONFORMAL_BASELINES = [\"CFRNN\"]"
   ]
  },
  {
   "cell_type": "markdown",
   "id": "9455748f-ff7b-4fa6-8c02-45dfd5509810",
   "metadata": {},
   "source": [
    "To obtain the results as presented in the paper, run the following three sections."
   ]
  },
  {
   "cell_type": "markdown",
   "id": "20370c7c-eaca-49aa-8e45-7f91c01c4faa",
   "metadata": {},
   "source": [
    "## Electricity Consumption dataset"
   ]
  },
  {
   "cell_type": "code",
   "execution_count": 6,
   "id": "84cb28a9-05b8-4be6-9656-44cc61953beb",
   "metadata": {
    "collapsed": true,
    "jupyter": {
     "outputs_hidden": true
    },
    "tags": []
   },
   "outputs": [
    {
     "name": "stdout",
     "output_type": "stream",
     "text": [
      "Training CFRNN\n",
      "Epoch: 0\tTrain loss: 2037213.96875\n",
      "Epoch: 50\tTrain loss: 920786.515625\n",
      "Epoch: 100\tTrain loss: 1052513.1875\n",
      "Epoch: 150\tTrain loss: 1505954.53125\n",
      "Epoch: 200\tTrain loss: 1458822.375\n",
      "Epoch: 250\tTrain loss: 937115.28125\n",
      "Epoch: 300\tTrain loss: 729555.5390625\n",
      "Epoch: 350\tTrain loss: 700364.1875\n",
      "Epoch: 400\tTrain loss: 1628349.65625\n",
      "Epoch: 450\tTrain loss: 1246551.78125\n",
      "Epoch: 500\tTrain loss: 1540353.0\n",
      "Epoch: 550\tTrain loss: 1499189.40625\n",
      "Epoch: 600\tTrain loss: 571548.109375\n",
      "Epoch: 650\tTrain loss: 1097344.90625\n",
      "Epoch: 700\tTrain loss: 660528.8125\n",
      "Epoch: 750\tTrain loss: 1030019.96875\n",
      "Epoch: 800\tTrain loss: 502131.265625\n",
      "Epoch: 850\tTrain loss: 966014.59375\n",
      "Epoch: 900\tTrain loss: 1234063.3125\n",
      "Epoch: 950\tTrain loss: 431270.296875\n",
      "Training CFRNN\n",
      "Epoch: 0\tTrain loss: 891301.0\n",
      "Epoch: 50\tTrain loss: 1097786.59375\n",
      "Epoch: 100\tTrain loss: 1222096.4375\n",
      "Epoch: 150\tTrain loss: 784255.109375\n",
      "Epoch: 200\tTrain loss: 751561.609375\n",
      "Epoch: 250\tTrain loss: 695717.8359375\n",
      "Epoch: 300\tTrain loss: 907981.25\n",
      "Epoch: 350\tTrain loss: 665089.1640625\n",
      "Epoch: 400\tTrain loss: 988356.15625\n",
      "Epoch: 450\tTrain loss: 952502.0625\n",
      "Epoch: 500\tTrain loss: 565082.765625\n",
      "Epoch: 550\tTrain loss: 689051.765625\n",
      "Epoch: 600\tTrain loss: 518060.13671875\n",
      "Epoch: 650\tTrain loss: 515222.515625\n",
      "Epoch: 700\tTrain loss: 1328647.9375\n",
      "Epoch: 750\tTrain loss: 764764.25\n",
      "Epoch: 800\tTrain loss: 1254820.890625\n",
      "Epoch: 850\tTrain loss: 416335.89453125\n",
      "Epoch: 900\tTrain loss: 399351.6171875\n",
      "Epoch: 950\tTrain loss: 539618.828125\n",
      "Training CFRNN\n",
      "Epoch: 0\tTrain loss: 1104676.97265625\n",
      "Epoch: 50\tTrain loss: 1069118.00390625\n",
      "Epoch: 100\tTrain loss: 1381931.8125\n",
      "Epoch: 150\tTrain loss: 1103987.890625\n",
      "Epoch: 200\tTrain loss: 1067556.5\n",
      "Epoch: 250\tTrain loss: 1489206.0\n",
      "Epoch: 300\tTrain loss: 1446451.6875\n",
      "Epoch: 350\tTrain loss: 2312544.25\n",
      "Epoch: 400\tTrain loss: 1871420.8125\n",
      "Epoch: 450\tTrain loss: 832642.4111328125\n",
      "Epoch: 500\tTrain loss: 879627.28125\n",
      "Epoch: 550\tTrain loss: 1737611.5625\n",
      "Epoch: 600\tTrain loss: 2066398.3125\n",
      "Epoch: 650\tTrain loss: 974198.125\n",
      "Epoch: 700\tTrain loss: 1142531.25\n",
      "Epoch: 750\tTrain loss: 1930759.96875\n",
      "Epoch: 800\tTrain loss: 883292.125\n",
      "Epoch: 850\tTrain loss: 856071.515625\n",
      "Epoch: 900\tTrain loss: 828294.890625\n",
      "Epoch: 950\tTrain loss: 801600.453125\n",
      "Training CFRNN\n",
      "Epoch: 0\tTrain loss: 1160753.265625\n",
      "Epoch: 50\tTrain loss: 1091689.4375\n",
      "Epoch: 100\tTrain loss: 1321570.65625\n",
      "Epoch: 150\tTrain loss: 2474707.1875\n",
      "Epoch: 200\tTrain loss: 1234241.78125\n",
      "Epoch: 250\tTrain loss: 1958763.0625\n",
      "Epoch: 300\tTrain loss: 2307815.15625\n",
      "Epoch: 350\tTrain loss: 1120081.0\n",
      "Epoch: 400\tTrain loss: 1816541.3125\n",
      "Epoch: 450\tTrain loss: 2154094.28125\n",
      "Epoch: 500\tTrain loss: 2106032.625\n",
      "Epoch: 550\tTrain loss: 795188.3359375\n",
      "Epoch: 600\tTrain loss: 750362.72265625\n",
      "Epoch: 650\tTrain loss: 725792.51171875\n",
      "Epoch: 700\tTrain loss: 834706.546875\n",
      "Epoch: 750\tTrain loss: 1515796.71875\n",
      "Epoch: 800\tTrain loss: 1834915.96875\n",
      "Epoch: 850\tTrain loss: 805526.046875\n",
      "Epoch: 900\tTrain loss: 629165.62890625\n",
      "Epoch: 950\tTrain loss: 705688.953125\n",
      "Training CFRNN\n",
      "Epoch: 0\tTrain loss: 12590180.625\n",
      "Epoch: 50\tTrain loss: 3218921.96875\n",
      "Epoch: 100\tTrain loss: 3175837.90625\n",
      "Epoch: 150\tTrain loss: 2868124.453125\n",
      "Epoch: 200\tTrain loss: 3018382.15625\n",
      "Epoch: 250\tTrain loss: 2793567.28125\n",
      "Epoch: 300\tTrain loss: 2782159.953125\n",
      "Epoch: 350\tTrain loss: 11909953.3125\n",
      "Epoch: 400\tTrain loss: 3073047.3125\n",
      "Epoch: 450\tTrain loss: 2677347.4921875\n",
      "Epoch: 500\tTrain loss: 11637198.6875\n",
      "Epoch: 550\tTrain loss: 2805650.28125\n",
      "Epoch: 600\tTrain loss: 2710399.59375\n",
      "Epoch: 650\tTrain loss: 2527348.4296875\n",
      "Epoch: 700\tTrain loss: 2697823.15625\n",
      "Epoch: 750\tTrain loss: 2464647.80859375\n",
      "Epoch: 800\tTrain loss: 2756152.25\n",
      "Epoch: 850\tTrain loss: 2536177.296875\n",
      "Epoch: 900\tTrain loss: 2686154.03125\n",
      "Epoch: 950\tTrain loss: 2355655.3984375\n"
     ]
    }
   ],
   "source": [
    "for baseline in CONFORMAL_BASELINES:\n",
    "    for seed in range(5):\n",
    "        run_medical_experiments(dataset='electricity', \n",
    "                                baseline=baseline,\n",
    "                                save_model=True, \n",
    "                                save_results=True,\n",
    "                                seed=seed)"
   ]
  },
  {
   "cell_type": "code",
   "execution_count": 13,
   "id": "a45a98a5-3175-40ce-9c70-5c0b236300b9",
   "metadata": {},
   "outputs": [
    {
     "name": "stdout",
     "output_type": "stream",
     "text": [
      "CFRNN\n",
      "coverages = [100.0, 100.0, 0.0, 100.0, 100.0]\n",
      "80.0 \\(\\pm\\) 40.0\\%\n",
      "\n"
     ]
    }
   ],
   "source": [
    "for baseline in CONFORMAL_BASELINES:\n",
    "    print(baseline)\n",
    "    coverages_mean, coverages_std = get_joint_medical_coverages(baseline, 'electricity', seeds=range(5))\n",
    "    \n",
    "    print('{:.1f} \\\\(\\\\pm\\\\) {:.1f}\\\\%'.format(coverages_mean, coverages_std))\n",
    "    print()"
   ]
  },
  {
   "cell_type": "code",
   "execution_count": 8,
   "id": "4074c07c-9cca-49c8-83b3-156d108530a2",
   "metadata": {},
   "outputs": [
    {
     "name": "stdout",
     "output_type": "stream",
     "text": [
      "CFRNN\n",
      "widths = [9119.04394531 9122.51757812 2192.79663086 9128.77050781 3434.50024414]\n",
      "6599.52578125\n",
      "3115.997006687927\n",
      "\n"
     ]
    }
   ],
   "source": [
    "for baseline in CONFORMAL_BASELINES:\n",
    "    print(baseline)\n",
    "    widths_mean, widths_std = get_medical_interval_widths(baseline, 'electricity', seeds=range(5))\n",
    "    \n",
    "    print(widths_mean)\n",
    "    print(widths_std)\n",
    "    print()"
   ]
  },
  {
   "cell_type": "markdown",
   "id": "b0b6d7af-a7c6-46eb-aead-23336fa9a665",
   "metadata": {},
   "source": [
    "## Ablation: Uncorrected calibration scores"
   ]
  },
  {
   "cell_type": "markdown",
   "id": "2c58171e-7675-4983-851c-5a963d25aeec",
   "metadata": {},
   "source": [
    "#### Electricity Consumption"
   ]
  },
  {
   "cell_type": "code",
   "execution_count": 9,
   "id": "752fa9ad-f6cc-43d3-9fb5-5bfdb071888e",
   "metadata": {},
   "outputs": [
    {
     "name": "stdout",
     "output_type": "stream",
     "text": [
      "coverages = [100.0, 100.0, 0.0, 100.0, 100.0]\n",
      "80.0 \\(\\pm\\) 40.0\\%\n"
     ]
    }
   ],
   "source": [
    "coverages_mean, coverages_std = get_joint_medical_coverages('CFRNN', 'electricity', seeds=range(5), correct_conformal=True)\n",
    "    \n",
    "print('{:.1f} \\\\(\\\\pm\\\\) {:.1f}\\\\%'.format(coverages_mean, coverages_std))"
   ]
  },
  {
   "cell_type": "code",
   "execution_count": 10,
   "id": "86d905e4-dc31-47ae-9b47-bda58c4c59aa",
   "metadata": {},
   "outputs": [
    {
     "name": "stdout",
     "output_type": "stream",
     "text": [
      "coverages = [100.0, 100.0, 0.0, 100.0, 100.0]\n",
      "80.0 \\(\\pm\\) 40.0\\%\n"
     ]
    }
   ],
   "source": [
    "coverages_mean, coverages_std = get_joint_medical_coverages('CFRNN', 'electricity', seeds=range(5), correct_conformal=False)\n",
    "    \n",
    "print('{:.1f} \\\\(\\\\pm\\\\) {:.1f}\\\\%'.format(coverages_mean, coverages_std))"
   ]
  },
  {
   "cell_type": "code",
   "execution_count": 11,
   "id": "66c5f5a2-4423-4aff-b2e4-91cc7a3ce3be",
   "metadata": {},
   "outputs": [
    {
     "name": "stdout",
     "output_type": "stream",
     "text": [
      "[100.0\\%, 100.0\\%]\n",
      "[100.0\\%, 100.0\\%]\n",
      "[0.0\\%, 0.0\\%]\n",
      "[100.0\\%, 100.0\\%]\n",
      "[100.0\\%, 100.0\\%]\n"
     ]
    }
   ],
   "source": [
    "for seed in range(5):\n",
    "    results = load_medical_results(dataset='electricity', baseline='CFRNN', seed=seed)\n",
    "    independent_coverages = results['Mean independent coverage']\n",
    "    print('[{:.1f}\\\\%, {:.1f}\\\\%]'.format(independent_coverages.min() * 100, independent_coverages.max() * 100))"
   ]
  },
  {
   "cell_type": "code",
   "execution_count": 12,
   "id": "ab9b269d-13d6-4f21-8848-d6eaeb6bc8cb",
   "metadata": {},
   "outputs": [
    {
     "name": "stdout",
     "output_type": "stream",
     "text": [
      "[100.0\\%, 100.0\\%]\n",
      "[100.0\\%, 100.0\\%]\n",
      "[0.0\\%, 0.0\\%]\n",
      "[100.0\\%, 100.0\\%]\n",
      "[100.0\\%, 100.0\\%]\n"
     ]
    }
   ],
   "source": [
    "for seed in range(5):\n",
    "    uncorrected_mimic_results = get_uncorrected_medical_results(dataset='electricity', seed=seed)\n",
    "    independent_coverages = uncorrected_mimic_results['Mean independent coverage']\n",
    "    print('[{:.1f}\\\\%, {:.1f}\\\\%]'.format(independent_coverages.min() * 100, independent_coverages.max() * 100))"
   ]
  }
 ],
 "metadata": {
  "kernelspec": {
   "display_name": "Python 3.8.13 ('lab')",
   "language": "python",
   "name": "python3"
  },
  "language_info": {
   "codemirror_mode": {
    "name": "ipython",
    "version": 3
   },
   "file_extension": ".py",
   "mimetype": "text/x-python",
   "name": "python",
   "nbconvert_exporter": "python",
   "pygments_lexer": "ipython3",
   "version": "3.8.13"
  },
  "vscode": {
   "interpreter": {
    "hash": "55cd0a945cf9041a238b2dc7f6f29da44cde9fabaada4bd04363a8e3e2e8be13"
   }
  }
 },
 "nbformat": 4,
 "nbformat_minor": 5
}
