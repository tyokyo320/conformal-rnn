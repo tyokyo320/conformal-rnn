{
 "cells": [
  {
   "cell_type": "markdown",
   "id": "bfaf9e81-c095-4d66-812e-3459dbc93c65",
   "metadata": {},
   "source": [
    "# Experiments on real-world data"
   ]
  },
  {
   "cell_type": "code",
   "execution_count": 7,
   "id": "e8602d8b-cb7c-488b-9787-1e624204f8f2",
   "metadata": {},
   "outputs": [
    {
     "name": "stdout",
     "output_type": "stream",
     "text": [
      "The autoreload extension is already loaded. To reload it, use:\n",
      "  %reload_ext autoreload\n"
     ]
    }
   ],
   "source": [
    "%load_ext autoreload\n",
    "%autoreload 2\n",
    "\n",
    "from utils.train_medical import run_medical_experiments\n",
    "from utils.results import (\n",
    "    get_joint_medical_coverages, \n",
    "    get_medical_interval_widths, \n",
    "    load_medical_results, \n",
    "    get_uncorrected_medical_results\n",
    ")"
   ]
  },
  {
   "cell_type": "markdown",
   "id": "9455748f-ff7b-4fa6-8c02-45dfd5509810",
   "metadata": {},
   "source": [
    "To obtain the results as presented in the paper, run the following three sections."
   ]
  },
  {
   "cell_type": "markdown",
   "id": "20370c7c-eaca-49aa-8e45-7f91c01c4faa",
   "metadata": {},
   "source": [
    "## COVID-19 dataset"
   ]
  },
  {
   "cell_type": "code",
   "execution_count": 8,
   "id": "84cb28a9-05b8-4be6-9656-44cc61953beb",
   "metadata": {
    "collapsed": true,
    "jupyter": {
     "outputs_hidden": true
    },
    "tags": []
   },
   "outputs": [
    {
     "name": "stdout",
     "output_type": "stream",
     "text": [
      "Training CFRNN\n",
      "Epoch: 0\tTrain loss: 19849.4248046875\n",
      "Epoch: 50\tTrain loss: 14987.1103515625\n",
      "Epoch: 100\tTrain loss: 12784.7021484375\n",
      "Epoch: 150\tTrain loss: 16437.63427734375\n",
      "Epoch: 200\tTrain loss: 11722.685546875\n",
      "Epoch: 250\tTrain loss: 15581.306396484375\n",
      "Epoch: 300\tTrain loss: 10658.34228515625\n",
      "Epoch: 350\tTrain loss: 8696.23583984375\n",
      "Epoch: 400\tTrain loss: 9109.50390625\n",
      "Epoch: 450\tTrain loss: 10849.78076171875\n",
      "Epoch: 500\tTrain loss: 11897.37255859375\n",
      "Epoch: 550\tTrain loss: 8026.652099609375\n",
      "Epoch: 600\tTrain loss: 7797.9775390625\n",
      "Epoch: 650\tTrain loss: 6970.69287109375\n",
      "Epoch: 700\tTrain loss: 10888.747314453125\n",
      "Epoch: 750\tTrain loss: 5506.3414306640625\n",
      "Epoch: 800\tTrain loss: 5750.919677734375\n",
      "Epoch: 850\tTrain loss: 6214.250732421875\n",
      "Epoch: 900\tTrain loss: 6035.7333984375\n",
      "Epoch: 950\tTrain loss: 10334.299072265625\n",
      "Training CFRNN\n",
      "Epoch: 0\tTrain loss: 22146.2509765625\n",
      "Epoch: 50\tTrain loss: 18750.36279296875\n",
      "Epoch: 100\tTrain loss: 16809.369140625\n",
      "Epoch: 150\tTrain loss: 14085.14453125\n",
      "Epoch: 200\tTrain loss: 13656.8427734375\n",
      "Epoch: 250\tTrain loss: 17567.69384765625\n",
      "Epoch: 300\tTrain loss: 12284.51220703125\n",
      "Epoch: 350\tTrain loss: 11821.51513671875\n",
      "Epoch: 400\tTrain loss: 11277.4990234375\n",
      "Epoch: 450\tTrain loss: 10640.63134765625\n",
      "Epoch: 500\tTrain loss: 10791.789306640625\n",
      "Epoch: 550\tTrain loss: 9560.46630859375\n",
      "Epoch: 600\tTrain loss: 9476.60107421875\n",
      "Epoch: 650\tTrain loss: 9832.6865234375\n",
      "Epoch: 700\tTrain loss: 8161.2578125\n",
      "Epoch: 750\tTrain loss: 12241.36962890625\n",
      "Epoch: 800\tTrain loss: 7121.233642578125\n",
      "Epoch: 850\tTrain loss: 6454.6185302734375\n",
      "Epoch: 900\tTrain loss: 7113.577392578125\n",
      "Epoch: 950\tTrain loss: 9906.311767578125\n",
      "Training CFRNN\n",
      "Epoch: 0\tTrain loss: 29443.4013671875\n",
      "Epoch: 50\tTrain loss: 17357.81884765625\n",
      "Epoch: 100\tTrain loss: 18555.5595703125\n",
      "Epoch: 150\tTrain loss: 13638.90380859375\n",
      "Epoch: 200\tTrain loss: 13406.48876953125\n",
      "Epoch: 250\tTrain loss: 14239.46630859375\n",
      "Epoch: 300\tTrain loss: 12606.09521484375\n",
      "Epoch: 350\tTrain loss: 12864.31298828125\n",
      "Epoch: 400\tTrain loss: 11744.1630859375\n",
      "Epoch: 450\tTrain loss: 12568.5615234375\n",
      "Epoch: 500\tTrain loss: 10933.62451171875\n",
      "Epoch: 550\tTrain loss: 13944.8828125\n",
      "Epoch: 600\tTrain loss: 8843.107177734375\n",
      "Epoch: 650\tTrain loss: 8725.0458984375\n",
      "Epoch: 700\tTrain loss: 11456.46044921875\n",
      "Epoch: 750\tTrain loss: 7626.624267578125\n",
      "Epoch: 800\tTrain loss: 11039.379638671875\n",
      "Epoch: 850\tTrain loss: 11965.97314453125\n",
      "Epoch: 900\tTrain loss: 6278.2828369140625\n",
      "Epoch: 950\tTrain loss: 6882.341064453125\n",
      "Training CFRNN\n",
      "Epoch: 0\tTrain loss: 19979.0244140625\n",
      "Epoch: 50\tTrain loss: 16717.2666015625\n",
      "Epoch: 100\tTrain loss: 13970.81982421875\n",
      "Epoch: 150\tTrain loss: 13371.89453125\n",
      "Epoch: 200\tTrain loss: 12366.76025390625\n",
      "Epoch: 250\tTrain loss: 9907.839599609375\n",
      "Epoch: 300\tTrain loss: 10948.4892578125\n",
      "Epoch: 350\tTrain loss: 10148.15625\n",
      "Epoch: 400\tTrain loss: 11577.26611328125\n",
      "Epoch: 450\tTrain loss: 9296.483154296875\n",
      "Epoch: 500\tTrain loss: 10771.0634765625\n",
      "Epoch: 550\tTrain loss: 9125.920654296875\n",
      "Epoch: 600\tTrain loss: 7576.5703125\n",
      "Epoch: 650\tTrain loss: 7082.427001953125\n",
      "Epoch: 700\tTrain loss: 7552.141845703125\n",
      "Epoch: 750\tTrain loss: 7092.387451171875\n",
      "Epoch: 800\tTrain loss: 6423.065185546875\n",
      "Epoch: 850\tTrain loss: 6789.7509765625\n",
      "Epoch: 900\tTrain loss: 5617.509765625\n",
      "Epoch: 950\tTrain loss: 5729.599853515625\n",
      "Training CFRNN\n",
      "Epoch: 0\tTrain loss: 17277.6435546875\n",
      "Epoch: 50\tTrain loss: 14058.4990234375\n",
      "Epoch: 100\tTrain loss: 10642.69189453125\n",
      "Epoch: 150\tTrain loss: 9940.4501953125\n",
      "Epoch: 200\tTrain loss: 8698.67626953125\n",
      "Epoch: 250\tTrain loss: 8605.575927734375\n",
      "Epoch: 300\tTrain loss: 8713.2470703125\n",
      "Epoch: 350\tTrain loss: 6713.533447265625\n",
      "Epoch: 400\tTrain loss: 6298.8541259765625\n",
      "Epoch: 450\tTrain loss: 9026.096923828125\n",
      "Epoch: 500\tTrain loss: 6890.9482421875\n",
      "Epoch: 550\tTrain loss: 5680.343505859375\n",
      "Epoch: 600\tTrain loss: 5458.08251953125\n",
      "Epoch: 650\tTrain loss: 4950.774658203125\n",
      "Epoch: 700\tTrain loss: 4289.193603515625\n",
      "Epoch: 750\tTrain loss: 3579.0440063476562\n",
      "Epoch: 800\tTrain loss: 3901.843994140625\n",
      "Epoch: 850\tTrain loss: 3911.239501953125\n",
      "Epoch: 900\tTrain loss: 3465.350830078125\n",
      "Epoch: 950\tTrain loss: 4242.577392578125\n",
      "Training QRNN\n",
      "Epoch:  0 | train loss: 30.6863\n",
      "Epoch:  1 | train loss: 24.3849\n",
      "Epoch:  2 | train loss: 14.5404\n",
      "Epoch:  3 | train loss: 9.1375\n",
      "Epoch:  4 | train loss: 9.6637\n",
      "Epoch:  5 | train loss: 11.7963\n",
      "Epoch:  6 | train loss: 8.1119\n",
      "Epoch:  7 | train loss: 9.8959\n",
      "Epoch:  8 | train loss: 13.5549\n",
      "Epoch:  9 | train loss: 8.6998\n",
      "Training QRNN\n",
      "Epoch:  0 | train loss: 28.1508\n",
      "Epoch:  1 | train loss: 28.0472\n",
      "Epoch:  2 | train loss: 17.2523\n",
      "Epoch:  3 | train loss: 19.3507\n",
      "Epoch:  4 | train loss: 12.9237\n",
      "Epoch:  5 | train loss: 8.9413\n",
      "Epoch:  6 | train loss: 12.3698\n",
      "Epoch:  7 | train loss: 8.4424\n",
      "Epoch:  8 | train loss: 7.8271\n",
      "Epoch:  9 | train loss: 6.9176\n",
      "Training QRNN\n",
      "Epoch:  0 | train loss: 32.7274\n",
      "Epoch:  1 | train loss: 25.3933\n",
      "Epoch:  2 | train loss: 20.0465\n",
      "Epoch:  3 | train loss: 12.7497\n",
      "Epoch:  4 | train loss: 13.6098\n",
      "Epoch:  5 | train loss: 10.4734\n",
      "Epoch:  6 | train loss: 10.1373\n",
      "Epoch:  7 | train loss: 9.0653\n",
      "Epoch:  8 | train loss: 10.2908\n",
      "Epoch:  9 | train loss: 10.2140\n",
      "Training QRNN\n",
      "Epoch:  0 | train loss: 20.1463\n",
      "Epoch:  1 | train loss: 21.2030\n",
      "Epoch:  2 | train loss: 21.9659\n",
      "Epoch:  3 | train loss: 14.5420\n",
      "Epoch:  4 | train loss: 10.4277\n",
      "Epoch:  5 | train loss: 9.5561\n",
      "Epoch:  6 | train loss: 9.5599\n",
      "Epoch:  7 | train loss: 7.3215\n",
      "Epoch:  8 | train loss: 7.6281\n",
      "Epoch:  9 | train loss: 7.0136\n",
      "Training QRNN\n",
      "Epoch:  0 | train loss: 24.3023\n",
      "Epoch:  1 | train loss: 23.9101\n",
      "Epoch:  2 | train loss: 20.3987\n",
      "Epoch:  3 | train loss: 10.8812\n",
      "Epoch:  4 | train loss: 12.5248\n",
      "Epoch:  5 | train loss: 12.8741\n",
      "Epoch:  6 | train loss: 9.4617\n",
      "Epoch:  7 | train loss: 8.0031\n",
      "Epoch:  8 | train loss: 11.9982\n",
      "Epoch:  9 | train loss: 14.3957\n",
      "Training DPRNN\n",
      "Epoch:  0 | train loss: 9700.9893\n",
      "Epoch:  1 | train loss: 4027.7917\n",
      "Epoch:  2 | train loss: 4753.7158\n",
      "Epoch:  3 | train loss: 6969.7593\n",
      "Epoch:  4 | train loss: 2439.3474\n",
      "Epoch:  5 | train loss: 2771.7205\n",
      "Epoch:  6 | train loss: 2262.1743\n",
      "Epoch:  7 | train loss: 3635.1626\n",
      "Epoch:  8 | train loss: 2869.7253\n",
      "Epoch:  9 | train loss: 3005.5005\n",
      "Training DPRNN\n",
      "Epoch:  0 | train loss: 12757.4580\n",
      "Epoch:  1 | train loss: 5146.2769\n",
      "Epoch:  2 | train loss: 11041.1523\n",
      "Epoch:  3 | train loss: 7450.2197\n",
      "Epoch:  4 | train loss: 4077.6997\n",
      "Epoch:  5 | train loss: 3373.0776\n",
      "Epoch:  6 | train loss: 4534.4688\n",
      "Epoch:  7 | train loss: 3163.4604\n",
      "Epoch:  8 | train loss: 2274.4797\n",
      "Epoch:  9 | train loss: 3852.9998\n",
      "Training DPRNN\n",
      "Epoch:  0 | train loss: 13082.8926\n",
      "Epoch:  1 | train loss: 11866.7969\n",
      "Epoch:  2 | train loss: 3721.1267\n",
      "Epoch:  3 | train loss: 3022.6558\n",
      "Epoch:  4 | train loss: 4822.3335\n",
      "Epoch:  5 | train loss: 3738.6523\n",
      "Epoch:  6 | train loss: 7909.3936\n",
      "Epoch:  7 | train loss: 4925.9453\n",
      "Epoch:  8 | train loss: 4825.5229\n",
      "Epoch:  9 | train loss: 5154.0039\n",
      "Training DPRNN\n",
      "Epoch:  0 | train loss: 7348.3652\n",
      "Epoch:  1 | train loss: 4583.3896\n",
      "Epoch:  2 | train loss: 4289.9219\n",
      "Epoch:  3 | train loss: 4272.4146\n",
      "Epoch:  4 | train loss: 4413.3389\n",
      "Epoch:  5 | train loss: 3192.7427\n",
      "Epoch:  6 | train loss: 3320.1543\n",
      "Epoch:  7 | train loss: 3320.5007\n",
      "Epoch:  8 | train loss: 4273.3550\n",
      "Epoch:  9 | train loss: 4043.9214\n",
      "Training DPRNN\n",
      "Epoch:  0 | train loss: 7648.8408\n",
      "Epoch:  1 | train loss: 4920.4219\n",
      "Epoch:  2 | train loss: 3968.0466\n",
      "Epoch:  3 | train loss: 7109.5479\n",
      "Epoch:  4 | train loss: 3448.1018\n",
      "Epoch:  5 | train loss: 5315.4448\n",
      "Epoch:  6 | train loss: 2969.0630\n",
      "Epoch:  7 | train loss: 3144.7612\n",
      "Epoch:  8 | train loss: 7286.9307\n",
      "Epoch:  9 | train loss: 6058.1919\n"
     ]
    }
   ],
   "source": [
    "for baseline in ['CFRNN']:\n",
    "    for seed in range(5):\n",
    "        run_medical_experiments(dataset='covid', \n",
    "                                baseline=baseline,\n",
    "                                save_model=True, \n",
    "                                save_results=True,\n",
    "                                seed=seed)"
   ]
  },
  {
   "cell_type": "code",
   "execution_count": 9,
   "id": "a45a98a5-3175-40ce-9c70-5c0b236300b9",
   "metadata": {},
   "outputs": [
    {
     "name": "stdout",
     "output_type": "stream",
     "text": [
      "CFRNN\n",
      "89.0 \\(\\pm\\) 6.0\\%\n",
      "\n",
      "QRNN\n",
      "9.5 \\(\\pm\\) 1.9\\%\n",
      "\n",
      "DPRNN\n",
      "0.5 \\(\\pm\\) 0.6\\%\n",
      "\n"
     ]
    }
   ],
   "source": [
    "for baseline in ['CFRNN']:\n",
    "    print(baseline)\n",
    "    coverages_mean, coverages_std = get_joint_medical_coverages(baseline, 'covid', seeds=range(5))\n",
    "    \n",
    "    print('{:.1f} \\\\(\\\\pm\\\\) {:.1f}\\\\%'.format(coverages_mean, coverages_std))\n",
    "    print()"
   ]
  },
  {
   "cell_type": "code",
   "execution_count": 10,
   "id": "4074c07c-9cca-49c8-83b3-156d108530a2",
   "metadata": {},
   "outputs": [
    {
     "name": "stdout",
     "output_type": "stream",
     "text": [
      "CFRNN\n",
      "741.2711116027832\n",
      "580.8353769385714\n",
      "\n",
      "DPRNN\n",
      "62.15974764251709\n",
      "32.4004625364606\n",
      "\n",
      "QRNN\n",
      "126.6640302886963\n",
      "56.191443533133125\n",
      "\n"
     ]
    }
   ],
   "source": [
    "for baseline in ['CFRNN']:\n",
    "    print(baseline)\n",
    "    widths_mean, widths_std = get_medical_interval_widths(baseline, 'covid', seeds=range(5))\n",
    "    \n",
    "    print(widths_mean)\n",
    "    print(widths_std)\n",
    "    print()"
   ]
  },
  {
   "cell_type": "markdown",
   "id": "b0b6d7af-a7c6-46eb-aead-23336fa9a665",
   "metadata": {},
   "source": [
    "## Ablation: Uncorrected calibration scores"
   ]
  },
  {
   "cell_type": "markdown",
   "id": "2c58171e-7675-4983-851c-5a963d25aeec",
   "metadata": {},
   "source": [
    "#### COVID-19"
   ]
  },
  {
   "cell_type": "code",
   "execution_count": 13,
   "id": "752fa9ad-f6cc-43d3-9fb5-5bfdb071888e",
   "metadata": {},
   "outputs": [
    {
     "name": "stdout",
     "output_type": "stream",
     "text": [
      "89.0 \\(\\pm\\) 6.0\\%\n"
     ]
    }
   ],
   "source": [
    "coverages_mean, coverages_std = get_joint_medical_coverages('CFRNN', 'covid', seeds=range(5), correct_conformal=True)\n",
    "    \n",
    "print('{:.1f} \\\\(\\\\pm\\\\) {:.1f}\\\\%'.format(coverages_mean, coverages_std))"
   ]
  },
  {
   "cell_type": "code",
   "execution_count": 14,
   "id": "86d905e4-dc31-47ae-9b47-bda58c4c59aa",
   "metadata": {},
   "outputs": [
    {
     "name": "stdout",
     "output_type": "stream",
     "text": [
      "54.5 \\(\\pm\\) 10.0\\%\n"
     ]
    }
   ],
   "source": [
    "coverages_mean, coverages_std = get_joint_medical_coverages('CFRNN', 'covid', seeds=range(5), correct_conformal=False)\n",
    "    \n",
    "print('{:.1f} \\\\(\\\\pm\\\\) {:.1f}\\\\%'.format(coverages_mean, coverages_std))"
   ]
  },
  {
   "cell_type": "code",
   "execution_count": 15,
   "id": "66c5f5a2-4423-4aff-b2e4-91cc7a3ce3be",
   "metadata": {},
   "outputs": [
    {
     "name": "stdout",
     "output_type": "stream",
     "text": [
      "[97.5\\%, 100.0\\%]\n",
      "[93.8\\%, 100.0\\%]\n",
      "[96.2\\%, 100.0\\%]\n",
      "[88.8\\%, 98.8\\%]\n",
      "[96.2\\%, 100.0\\%]\n"
     ]
    }
   ],
   "source": [
    "for seed in range(5):\n",
    "    results = load_medical_results(dataset='covid', baseline='CFRNN', seed=seed)\n",
    "    independent_coverages = results['Mean independent coverage']\n",
    "    print('[{:.1f}\\\\%, {:.1f}\\\\%]'.format(independent_coverages.min() * 100, independent_coverages.max() * 100))"
   ]
  },
  {
   "cell_type": "code",
   "execution_count": 16,
   "id": "ab9b269d-13d6-4f21-8848-d6eaeb6bc8cb",
   "metadata": {},
   "outputs": [
    {
     "name": "stdout",
     "output_type": "stream",
     "text": [
      "[77.5\\%, 98.8\\%]\n",
      "[82.5\\%, 98.8\\%]\n",
      "[86.2\\%, 98.8\\%]\n",
      "[72.5\\%, 95.0\\%]\n",
      "[88.8\\%, 97.5\\%]\n"
     ]
    }
   ],
   "source": [
    "for seed in range(5):\n",
    "    uncorrected_mimic_results = get_uncorrected_medical_results(dataset='covid', seed=seed)\n",
    "    independent_coverages = uncorrected_mimic_results['Mean independent coverage']\n",
    "    print('[{:.1f}\\\\%, {:.1f}\\\\%]'.format(independent_coverages.min() * 100, independent_coverages.max() * 100))"
   ]
  }
 ],
 "metadata": {
  "kernelspec": {
   "display_name": "Python 3.8.13 ('lab')",
   "language": "python",
   "name": "python3"
  },
  "language_info": {
   "codemirror_mode": {
    "name": "ipython",
    "version": 3
   },
   "file_extension": ".py",
   "mimetype": "text/x-python",
   "name": "python",
   "nbconvert_exporter": "python",
   "pygments_lexer": "ipython3",
   "version": "3.8.13"
  },
  "vscode": {
   "interpreter": {
    "hash": "55cd0a945cf9041a238b2dc7f6f29da44cde9fabaada4bd04363a8e3e2e8be13"
   }
  }
 },
 "nbformat": 4,
 "nbformat_minor": 5
}
